{
 "cells": [
  {
   "cell_type": "markdown",
   "metadata": {},
   "source": [
    "# Plotting vread performace testing data\n",
    "\n",
    "\n",
    "Code that takes data input to plot graph with 'error' bars of variance of time measurements for vector reads of differing sizes.\n",
    "\n",
    "Part one takes data from two files and plots them against each other - for comparisons of lock/no lock\n",
    "\n",
    "This assumes a data format of readsize \\t gapsize \\t numreads \\t time\n",
    "\n",
    "For all of my data I was only varying the number of reads so the 'dataindex' variable is always 2, but if you were to vary another variable using my code to perform the tests you can change this index according to the formatting which is explained below.\n",
    "\n",
    "In terms of actually plotting the data my method has beeen this:\n",
    " - read in the data to numpy arrays\n",
    " - got all the unique values for number of reads from each data set and checked they are the same for both data sets\n",
    " - created a new array that represents edges of 'bins', with first element 0 then each number of reads plus 10\n",
    " - used the scipy.stats.binned_statistic to easily get the average/min/max of each data set in each 'bin' (i.e. at each value of number of reads) instead of doing much more manual processing of the data\n",
    " - used these values to create arrays of data points and 'errors' to plot the average and range of timings for each number of reads per data set\n",
    "\n",
    "I do not know if this was the best way to process the data, but it was easiest for me as I was familiar with the methods/scipy.stats library from previous work\n",
    "\n",
    "You can then cretae a graph from the two data sets read in at the start, or skip forward to read in more data to plot graphs with more data sets if wanted.\n",
    "\n",
    "The only things you should need to edit are the file names/plot labels if you are after plots similar to those produced by me - filenames in cell 2 and plot labels in plotting cells. But feel free to use this as a basis if you want to do anything more intricte/build upon this."
   ]
  },
  {
   "cell_type": "code",
   "execution_count": 1,
   "metadata": {},
   "outputs": [],
   "source": [
    "# importing packages\n",
    "import matplotlib.pyplot as plt\n",
    "import csv\n",
    "import numpy as np\n",
    "from scipy import stats"
   ]
  },
  {
   "cell_type": "code",
   "execution_count": 29,
   "metadata": {},
   "outputs": [],
   "source": [
    "# User input\n",
    "\n",
    "# What will be plotted on the x-axis? Read size - 0, gap size - 1, number reads - 2\n",
    "dataindex = 2\n",
    "\n",
    "#File names\n",
    "datafile1 = 'timings-10concurr-plain-nolock-readsize10000-readgap100000-3.txt'\n",
    "datafile2 = 'timings-15concurr-plain-nolock-readsize10000-readgap100000-3.txt'\n",
    "datafile3 = 'timings-20concurr-plain-nolock-readsize10000-readgap100000-3.txt'\n",
    "datafile4 = 'startend-10concurr-plain-nolock.txt'"
   ]
  },
  {
   "cell_type": "code",
   "execution_count": 30,
   "metadata": {},
   "outputs": [],
   "source": [
    "# take my input and format for plotting\n",
    "\n",
    "data1=[]\n",
    "time1=[]\n",
    "with open(datafile1) as inputfile:\n",
    "    data_reader = csv.reader(inputfile, delimiter='\\t')\n",
    "    for data in data_reader:\n",
    "        data1.append(data[dataindex])\n",
    "        time1.append(data[3])\n",
    "        \n",
    "data2=[]\n",
    "time2=[]\n",
    "with open(datafile2) as inputfile:\n",
    "    data_reader = csv.reader(inputfile, delimiter='\\t')\n",
    "    for data in data_reader:\n",
    "        data2.append(data[dataindex])\n",
    "        time2.append(data[3])\n",
    "\n",
    "# convert to floats in numpy arrays\n",
    "data1=np.array(data1).astype(np.float)\n",
    "time1=np.array(time1).astype(np.float)\n",
    "data2=np.array(data2).astype(np.float)\n",
    "time2=np.array(time2).astype(np.float)"
   ]
  },
  {
   "cell_type": "code",
   "execution_count": 31,
   "metadata": {},
   "outputs": [],
   "source": [
    "# Getting x values from data we can create bins from\n",
    "check1 = np.unique(data1)\n",
    "check2 = np.unique(data2)\n",
    "\n",
    "#Checking these values are the same for each data set - should always be\n",
    "for i in range(check1.size):\n",
    "    if(check1[i] != check2[i]):\n",
    "        print(\"error\")\n",
    "        \n",
    "x = check1\n",
    "\n",
    "# Sorting out binning for data\n",
    "bins=[0]\n",
    "for el in check1:\n",
    "    bins.append(el+10)\n"
   ]
  },
  {
   "cell_type": "code",
   "execution_count": 32,
   "metadata": {},
   "outputs": [],
   "source": [
    "y1 = stats.binned_statistic(data1, time1, 'mean', bins).statistic\n",
    "y1errplus = stats.binned_statistic(data1, time1, 'max', bins).statistic - y1\n",
    "y1errminus = y1 - stats.binned_statistic(data1, time1, 'min', bins).statistic\n",
    "\n",
    "y2 = stats.binned_statistic(data2, time2, 'mean', bins).statistic\n",
    "y2errplus = stats.binned_statistic(data2, time2, 'max', bins).statistic - y2\n",
    "y2errminus = y2 - stats.binned_statistic(data2, time2, 'min', bins).statistic"
   ]
  },
  {
   "cell_type": "code",
   "execution_count": null,
   "metadata": {},
   "outputs": [],
   "source": [
    "# Do the plots\n",
    "plt.errorbar(x, y1, yerr=[y1errplus, y1errminus], label = \"no lock 20\", capsize=3.0, capthick=1.5, marker='')\n",
    "plt.errorbar(x, y2, yerr=[y2errplus, y2errminus], label = \"no lock 10\", capsize=3.0, capthick=1.5, marker='')\n",
    "plt.legend()\n",
    "plt.title(\"vreads with read size 10000, gap 100000 and varying number of reads\")\n",
    "plt.xlabel(\"number of reads\")\n",
    "plt.ylabel(\"time (s)\")\n",
    "plt.rcParams[\"figure.figsize\"] = (12,8)\n",
    "plt.show()"
   ]
  },
  {
   "cell_type": "markdown",
   "metadata": {},
   "source": [
    "# Plotting the concurrent data\n",
    "\n",
    "You can also use this to plot more than two data sets on the same diagram.\n",
    "\n",
    "Below I have simply copy and pasted the data processing of the initial data sets calling them data3/data4 - this coud very easily be expanded to more data sets if you wanted to lot them for comparisons. You can go back and re-run the processing of data1/data2 to be the data file you want in the below plot."
   ]
  },
  {
   "cell_type": "code",
   "execution_count": 33,
   "metadata": {},
   "outputs": [],
   "source": [
    "data3=[]\n",
    "time3=[]\n",
    "with open(datafile3) as inputfile:\n",
    "    data_reader = csv.reader(inputfile, delimiter='\\t')\n",
    "    for data in data_reader:\n",
    "        data3.append(data[dataindex])\n",
    "        time3.append(data[3])\n",
    "        \n",
    "data3=np.array(data3).astype(np.float)\n",
    "time3=np.array(time3).astype(np.float)\n",
    "\n",
    "y3 = stats.binned_statistic(data3, time3, 'mean', bins).statistic\n",
    "y3errplus = stats.binned_statistic(data3, time3, 'max', bins).statistic - y3\n",
    "y3errminus = y3 - stats.binned_statistic(data3, time3, 'min', bins).statistic"
   ]
  },
  {
   "cell_type": "code",
   "execution_count": null,
   "metadata": {},
   "outputs": [],
   "source": [
    "data4=[]\n",
    "time4=[]\n",
    "with open(datafile4) as inputfile:\n",
    "    data_reader = csv.reader(inputfile, delimiter='\\t')\n",
    "    for data in data_reader:\n",
    "        data4.append(data[dataindex])\n",
    "        time4.append(data[3])\n",
    "        \n",
    "data4=np.array(data4).astype(np.float)\n",
    "time4=np.array(time4).astype(np.float)\n",
    "\n",
    "y4 = stats.binned_statistic(data4, time4, 'mean', bins).statistic\n",
    "y4errplus = stats.binned_statistic(data4, time4, 'max', bins).statistic - y4\n",
    "y4errminus = y4 - stats.binned_statistic(data4, time4, 'min', bins).statistic"
   ]
  },
  {
   "cell_type": "code",
   "execution_count": null,
   "metadata": {},
   "outputs": [],
   "source": [
    "# Do the plots\n",
    "plt.errorbar(x, y1, yerr=[y1errplus, y1errminus], label = \"no lock 10 concurrent\", capsize=3.0, capthick=1.5, marker='')\n",
    "plt.errorbar(x, y2, yerr=[y2errplus, y2errminus], label = \"no lock 15 concurrent\", capsize=3.0, capthick=1.5, marker='')\n",
    "plt.errorbar(x, y3, yerr=[y3errplus, y3errminus], label = \"no lock 20 concurrent\", capsize=3.0, capthick=1.5, marker='')\n",
    "#plt.errorbar(x, y4, yerr=[y4errplus, y4errminus], label = \"lock 10\", capsize=3.0, capthick=1.5, marker='')\n",
    "plt.legend()\n",
    "plt.title(\"vreads with read size 10000, gap 100000 and varying number of reads\")\n",
    "plt.xlabel(\"number of reads\")\n",
    "plt.ylabel(\"time (s)\")\n",
    "plt.rcParams[\"figure.figsize\"] = (12,8)\n",
    "plt.show()"
   ]
  },
  {
   "cell_type": "markdown",
   "metadata": {},
   "source": [
    "Now for plotting aggregate data rate - this is more manual as it was only done for a couple of data sets when running concurrent access. If more was done in the future I'm sure it could be automated"
   ]
  },
  {
   "cell_type": "code",
   "execution_count": 7,
   "metadata": {},
   "outputs": [
    {
     "data": {
      "image/png": "[encoded data removed]",
      "text/plain": [
       "<Figure size 864x576 with 1 Axes>"
      ]
     },
     "metadata": {
      "needs_background": "light"
     },
     "output_type": "display_data"
    }
   ],
   "source": [
    "totnumread = 25500 # total number of reads by one set of tests varying number of read\n",
    "dataread = totnumread*10000 # each read was set to be 10000 bytes\n",
    "conc5totdata = dataread*5\n",
    "conc10totdata = dataread*10\n",
    "conc15totdata = dataread*15\n",
    "conc20totdata = dataread*20\n",
    "\n",
    "# these values have been taken from the end-start times of each concurrency run\n",
    "noconctimes = [36, 52, 57]\n",
    "conc5times = [83, 81, 82]\n",
    "conc10times = [119, 133, 132]\n",
    "conc15times = [148, 164, 164]\n",
    "conc20times = [234, 268, 249]\n",
    "\n",
    "x = [1, 5, 10, 15, 20]\n",
    "ynolock = [3*dataread/np.sum(noconctimes), 3*conc5totdata/np.sum(conc5times), 3*conc10totdata/np.sum(conc10times), 3*conc15totdata/np.sum(conc15times), 3*conc20totdata/np.sum(conc20times)]\n",
    "\n",
    "plt.plot(x, ynolock, marker='o')\n",
    "plt.title(\"aggregate data rate for differing number of concurrent accesses\")\n",
    "plt.xlabel(\"number of concurrent reads\")\n",
    "plt.ylabel(\"aggregate data rate (bytes/s)\")\n",
    "#plt.ylim([10000000,18000000])\n",
    "#plt.xlim([0, 21])\n",
    "plt.rcParams[\"figure.figsize\"] = (12,8)\n",
    "plt.show()"
   ]
  }
 ],
 "metadata": {
  "kernelspec": {
   "display_name": "Python 3",
   "language": "python",
   "name": "python3"
  },
  "language_info": {
   "codemirror_mode": {
    "name": "ipython",
    "version": 3
   },
   "file_extension": ".py",
   "mimetype": "text/x-python",
   "name": "python",
   "nbconvert_exporter": "python",
   "pygments_lexer": "ipython3",
   "version": "3.8.3"
  }
 },
 "nbformat": 4,
 "nbformat_minor": 4
}
